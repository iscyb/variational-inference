{
 "cells": [
  {
   "cell_type": "code",
   "execution_count": 128,
   "metadata": {},
   "outputs": [],
   "source": [
    "import numpy as np\n",
    "import tensorflow as tf\n",
    "import tensorflow_probability as tfp\n",
    "import matplotlib.pyplot as plt\n",
    "\n",
    "tfd = tfp.distributions\n",
    "tfb = tfp.bijectors"
   ]
  },
  {
   "cell_type": "code",
   "execution_count": 129,
   "metadata": {},
   "outputs": [
    {
     "data": {
      "text/plain": [
       "<matplotlib.collections.PathCollection at 0x24482657370>"
      ]
     },
     "execution_count": 129,
     "metadata": {},
     "output_type": "execute_result"
    },
    {
     "data": {
      "image/png": "[encoded data removed]",
      "text/plain": [
       "<Figure size 640x480 with 1 Axes>"
      ]
     },
     "metadata": {},
     "output_type": "display_data"
    }
   ],
   "source": [
    "# simulate true model and observed data\n",
    "N_observations = 200\n",
    "\n",
    "slope = 1.2\n",
    "intercept = 1.9\n",
    "noise_eps = 0.5\n",
    "x = np.random.normal(0,1, N_observations)#.sample(N_observations)\n",
    "noise = np.random.normal(0,noise_eps, N_observations)\n",
    "\n",
    "y = slope*x + intercept + noise\n",
    "\n",
    "# Convert x and y to TensorFlow tensors\n",
    "x = tf.convert_to_tensor(x, dtype=tf.float32)\n",
    "y = tf.convert_to_tensor(y, dtype=tf.float32)\n",
    "\n",
    "plt.scatter(x,y)"
   ]
  },
  {
   "cell_type": "code",
   "execution_count": null,
   "metadata": {},
   "outputs": [],
   "source": []
  },
  {
   "cell_type": "code",
   "execution_count": 247,
   "metadata": {},
   "outputs": [
    {
     "name": "stdout",
     "output_type": "stream",
     "text": [
      "Trainable variables. Surrogate\n",
      "0 : <tf.Variable 'q_m_loc:0' shape=() dtype=float32, numpy=1.0>\n",
      "1 : <tf.Variable 'q_m_scale:0' shape=() dtype=float32, numpy=0.54132485>\n",
      "2 : <tf.Variable 'q_b_loc:0' shape=() dtype=float32, numpy=1.0>\n",
      "3 : <tf.Variable 'q_b_scale:0' shape=() dtype=float32, numpy=0.54132485>\n",
      "4 : <tf.Variable 'q_eps_loc:0' shape=() dtype=float32, numpy=0.1>\n",
      "5 : <tf.Variable 'q_eps_scale:0' shape=() dtype=float32, numpy=-0.43275213>\n",
      "\n",
      "model graph\n",
      "(('m', ()), ('b', ()), ('eps', ()), ('y', ('eps', 'b', 'm')))\n",
      "\n",
      "surrogate graph\n",
      "(('q_m', ()), ('q_b', ()), ('q_eps', ()))\n",
      "Examples log probs (sample)\n",
      "tf.Tensor([ 2.4887729  -2.303236    2.110849    0.65735173  0.51936483], shape=(5,), dtype=float32)\n",
      "tf.Tensor([ 0.7658569  0.7883428  3.0519214  0.6957158 -0.0632596], shape=(5,), dtype=float32)\n",
      "tf.Tensor([1.5998703  1.723467   0.78287756 1.2359326  0.64142466], shape=(5,), dtype=float32)\n",
      "[-315.18076 -901.5921  -878.2368  -356.53128 -980.6092 ]\n",
      "[-3.9429102 -8.480963  -4.778818  -2.4055026 -2.8923807]\n"
     ]
    }
   ],
   "source": [
    "# Target model\n",
    "model = tfd.JointDistributionSequentialAutoBatched([\n",
    "    tfd.Normal(loc=1., scale=1., name='m'),   # m\n",
    "    tfd.Normal(loc=1., scale=1., name='b'),   # b\n",
    "    tfd.HalfNormal(scale=.7, name='eps'),        # eps\n",
    "    lambda eps, b, m: tfd.Normal(loc=b*x + m, scale=eps, name='y') # Y\n",
    "])\n",
    "\n",
    "# Define target_log_prob_fn like this to remove y from the input\n",
    "target_log_prob_fn = lambda m, b, eps: model.log_prob([m, b, eps, y])\n",
    "\n",
    "\n",
    "# surrogate\n",
    "surrogate =  tfd.JointDistributionSequentialAutoBatched([   \n",
    "     # m \n",
    "    tfd.Normal(\n",
    "            loc=tf.Variable(1., name='q_m_loc'),\n",
    "            scale=tfp.util.TransformedVariable(1., bijector=tfb.Softplus(), name='q_m_scale'), name='q_m'),\n",
    "    # b\n",
    "    tfd.Normal(\n",
    "            loc=tf.Variable(1., name='q_b_loc'),\n",
    "            scale=tfp.util.TransformedVariable(1., bijector=tfb.Softplus(), name='q_b_scale'), name='q_b'),\n",
    "    #tfd.HalfNormal(\n",
    "    #        scale=tfp.util.TransformedVariable(1., bijector=tfb.Softplus(), name='q_b_scale'), name='q_b'),\n",
    "    # eps\n",
    "    tfd.LogNormal(\n",
    "            loc=tf.Variable(0.1, name='q_eps_loc'),\n",
    "            scale=tfp.util.TransformedVariable(.5, bijector=tfb.Softplus(), name='q_eps_scale'), name='q_eps'),\n",
    "    #tfd.HalfNormal(\n",
    "    #        scale=tfp.util.TransformedVariable(0.3, bijector=tfb.Softplus(), name='q_eps_scale'), name='q_eps')\n",
    "])\n",
    "\n",
    "print('Trainable variables. Surrogate')\n",
    "for i, v in enumerate(surrogate.trainable_variables):\n",
    "    print(i, ':', v)\n",
    "\n",
    "\n",
    "print('\\nmodel graph')\n",
    "print(model.resolve_graph())\n",
    "\n",
    "print('\\nsurrogate graph')\n",
    "print(surrogate.resolve_graph())\n",
    "\n",
    "print('Examples log probs (sample)')\n",
    "sample = surrogate.sample(5)\n",
    "for i in sample:\n",
    "    print(i)\n",
    "#print(target_log_prob_fn(*sample[::-1]).numpy())\n",
    "print(target_log_prob_fn(*sample).numpy())\n",
    "print(surrogate.log_prob(*sample).numpy())"
   ]
  },
  {
   "cell_type": "code",
   "execution_count": 239,
   "metadata": {},
   "outputs": [],
   "source": [
    "# Test to verify the logprob. create a marginal plot over each parameters logprob given the other params have the true value.\n",
    "if False:\n",
    "    fig, axs = plt.subplots(1, 3, figsize=(15, 4))\n",
    "\n",
    "    # Intercept (m) plot\n",
    "    m_linspace = np.linspace(0, 3, 100)\n",
    "    logprobs_m = [target_log_prob_fn(m_i, slope, noise_eps) for m_i in m_linspace]\n",
    "\n",
    "    axs[0].plot(m_linspace, logprobs_m)\n",
    "    axs[0].scatter(intercept, target_log_prob_fn(intercept, slope, noise_eps), color='red', label='true')\n",
    "    axs[0].set_xlabel(\"Intercept (m)\")\n",
    "    axs[0].set_ylabel(\"Log Probability\")\n",
    "    axs[0].legend()\n",
    "    axs[0].set_title(\"Log Probability vs Intercept (m)\")\n",
    "\n",
    "    # Slope (b) plot\n",
    "    b_linspace = np.linspace(0, 3, 100)\n",
    "    logprobs_b = [target_log_prob_fn(intercept, b_i, noise_eps) for b_i in b_linspace]\n",
    "\n",
    "    axs[1].plot(b_linspace, logprobs_b)\n",
    "    axs[1].scatter(slope, target_log_prob_fn(intercept, slope, noise_eps), color='red', label='true')\n",
    "    axs[1].set_xlabel(\"Slope (b)\")\n",
    "    axs[1].set_ylabel(\"Log Probability\")\n",
    "    axs[1].legend()\n",
    "    axs[1].set_title(\"Log Probability vs Slope (b)\")\n",
    "\n",
    "    # Noise (eps) plot\n",
    "    eps_linspace = np.linspace(0.1, 2, 100)\n",
    "    logprobs_eps = [target_log_prob_fn(intercept, slope, eps_i) for eps_i in eps_linspace]\n",
    "\n",
    "    axs[2].plot(eps_linspace, logprobs_eps)\n",
    "    axs[2].scatter(noise_eps, target_log_prob_fn(intercept, slope, noise_eps), color='red', label='true')\n",
    "    axs[2].set_xlabel(\"Noise (eps)\")\n",
    "    axs[2].set_ylabel(\"Log Probability\")\n",
    "    axs[2].legend()\n",
    "    axs[2].set_title(\"Log Probability vs Noise (eps)\")\n",
    "\n",
    "    plt.tight_layout()\n",
    "    plt.show()"
   ]
  },
  {
   "cell_type": "code",
   "execution_count": 248,
   "metadata": {},
   "outputs": [
    {
     "data": {
      "image/png": "[encoded data removed]",
      "text/plain": [
       "<Figure size 1000x500 with 1 Axes>"
      ]
     },
     "metadata": {},
     "output_type": "display_data"
    }
   ],
   "source": [
    "num_steps = 1000\n",
    "sample_size = 64\n",
    "learning_rate = 0.01\n",
    "\n",
    "optimizer = tf.optimizers.Adam(learning_rate=learning_rate)\n",
    "\n",
    "losses = tfp.vi.fit_surrogate_posterior(\n",
    "    target_log_prob_fn=target_log_prob_fn,\n",
    "    surrogate_posterior=surrogate,\n",
    "    optimizer=optimizer,\n",
    "    num_steps=num_steps,\n",
    "    sample_size=sample_size\n",
    ")\n",
    "\n",
    "plt.figure(figsize=(10, 5))\n",
    "plt.plot(losses)\n",
    "plt.xlabel(\"Epoch\")\n",
    "plt.ylabel(\"Loss\")\n",
    "plt.title(\"Loss During Variational Inference\")\n",
    "plt.show()"
   ]
  },
  {
   "cell_type": "code",
   "execution_count": 269,
   "metadata": {},
   "outputs": [
    {
     "name": "stdout",
     "output_type": "stream",
     "text": [
      "1.8790833 1.1512011 0.53192335\n"
     ]
    }
   ],
   "source": [
    "[m, b, eps] = np.mean(surrogate.sample(1000), axis=1)\n",
    "print(m, b , eps)"
   ]
  },
  {
   "cell_type": "code",
   "execution_count": null,
   "metadata": {},
   "outputs": [],
   "source": [
    "print('True params')\n",
    "print('intercept', intercept)\n",
    "print('slope', slope)\n",
    "print('noise_eps', noise_eps)"
   ]
  },
  {
   "attachments": {},
   "cell_type": "markdown",
   "metadata": {},
   "source": [
    "# Predictions"
   ]
  },
  {
   "cell_type": "code",
   "execution_count": 257,
   "metadata": {},
   "outputs": [],
   "source": [
    "x_test = np.random.normal(0,1, 50)\n",
    "x_test = tf.convert_to_tensor(x_test, dtype=tf.float32)"
   ]
  },
  {
   "cell_type": "code",
   "execution_count": 262,
   "metadata": {},
   "outputs": [
    {
     "name": "stdout",
     "output_type": "stream",
     "text": [
      "tf.Tensor(\n",
      "[ 1.3212576   4.081833    1.0807179   0.7091658   0.9020339   5.0981946\n",
      "  2.459393    4.144277    2.228513   -0.06837684  2.8462434   1.9751264\n",
      "  2.1019015   1.5803356   2.4285474   2.1154237   2.7639198   2.092399\n",
      "  2.9278393   3.0993524   3.1374772   1.4709123   3.1296592   2.0771973\n",
      "  3.9295874   1.2904894   0.790182    4.0058894   0.4915622   0.57334834\n",
      "  4.4356327   2.575538    1.3318154   2.5253391   0.20468128  0.54207057\n",
      "  0.9454553   1.7951006   1.1590812   2.1611505   2.313086    1.559847\n",
      "  3.766498   -0.6404662   3.8047576   2.769256    2.8051357   0.4248947\n",
      "  2.775665    2.826025  ], shape=(50,), dtype=float32)\n"
     ]
    }
   ],
   "source": [
    "# Alternative 1 : means of the surrogate posterior distributions to make predictions is a form of point estimation\n",
    "[m, b, eps] = np.mean(surrogate.sample(1000), axis=1)\n",
    "\n",
    "prediction_model = tfd.Normal(loc=b*x_test + m, scale=eps)\n",
    "\n",
    "point_preds = prediction_model.sample()\n",
    "print(point_preds)\n"
   ]
  },
  {
   "cell_type": "code",
   "execution_count": 266,
   "metadata": {},
   "outputs": [
    {
     "name": "stdout",
     "output_type": "stream",
     "text": [
      "tf.Tensor(\n",
      "[ 1.1368176   3.831791    2.091177    1.1075778   1.1546625   4.5994024\n",
      "  1.938732    3.8851466   1.4878333  -0.30186677  2.790099    2.1046383\n",
      "  1.3976268   1.4724582   1.5936291   2.2383244   2.4481463   2.2740154\n",
      "  2.8358488   3.63591     3.2700567   1.5491536   2.625807    2.3263705\n",
      "  3.764063    0.7231951   1.6442134   3.6788867   0.7700329   0.62498164\n",
      "  3.7052188   2.4773197   1.4421074   1.8525342   0.938431    1.2404907\n",
      "  0.5129659   1.9004751   1.4597828   2.0131922   2.8473601   1.3298037\n",
      "  3.0260847   0.52019536  2.3269029   2.9566193   2.5019393   0.9842217\n",
      "  2.8005629   2.5302663 ], shape=(50,), dtype=float32)\n",
      "tf.Tensor(\n",
      "[ 0.7931107   3.9487538   1.8033347   0.9359581   1.6977211   4.8102903\n",
      "  2.1455824   3.8910148   1.2610688  -0.77360207  2.6147606   1.7221233\n",
      "  0.8169799   1.4931134   0.66455865  2.2238433   2.2407625   1.5023115\n",
      "  3.2259762   3.8689613   2.6166935   1.9813764   2.5355542   1.8134247\n",
      "  3.7884977   0.28656653  0.7570933   4.060196    1.0371183   1.0717288\n",
      "  3.9835181   2.9158823   1.6536902   1.427525    1.8863399   0.805557\n",
      "  0.03977463  1.4498088   1.5381206   2.1012864   2.5415971   1.5404961\n",
      "  2.9015176   0.83580136  2.5221848   3.2041075   3.2190938   1.656497\n",
      "  3.451406    1.8334906 ], shape=(50,), dtype=float32)\n"
     ]
    }
   ],
   "source": [
    "# Alt 1.b\n",
    "\n",
    "pe_preds_deterministic = b*x_test + m\n",
    "noise = tf.random.normal(shape=x_test.shape, mean=0., stddev=eps)\n",
    "pe_preds_w_noise = pe_preds_deterministic + noise\n",
    "\n",
    "print(pe_preds_deterministic)\n",
    "print(pe_preds_w_noise)"
   ]
  },
  {
   "cell_type": "code",
   "execution_count": 268,
   "metadata": {},
   "outputs": [
    {
     "ename": "InvalidArgumentError",
     "evalue": "{{function_node __wrapped__Mul_device_/job:localhost/replica:0/task:0/device:CPU:0}} Incompatible shapes: [1000] vs. [50] [Op:Mul]",
     "output_type": "error",
     "traceback": [
      "\u001b[1;31m---------------------------------------------------------------------------\u001b[0m",
      "\u001b[1;31mInvalidArgumentError\u001b[0m                      Traceback (most recent call last)",
      "Cell \u001b[1;32mIn[268], line 5\u001b[0m\n\u001b[0;32m      2\u001b[0m n_samples \u001b[39m=\u001b[39m \u001b[39m1000\u001b[39m\n\u001b[0;32m      3\u001b[0m samples \u001b[39m=\u001b[39m surrogate\u001b[39m.\u001b[39msample(n_samples)\n\u001b[1;32m----> 5\u001b[0m prediction_model \u001b[39m=\u001b[39m tfd\u001b[39m.\u001b[39mNormal(loc\u001b[39m=\u001b[39msamples[\u001b[39m0\u001b[39;49m]\u001b[39m*\u001b[39;49mtf\u001b[39m.\u001b[39;49mtranspose(x_test) \u001b[39m+\u001b[39m samples[\u001b[39m1\u001b[39m], scale\u001b[39m=\u001b[39msamples[\u001b[39m2\u001b[39m])\n\u001b[0;32m      7\u001b[0m preds \u001b[39m=\u001b[39m prediction_model\u001b[39m.\u001b[39msample()\n\u001b[0;32m      9\u001b[0m mean_preds \u001b[39m=\u001b[39m tf\u001b[39m.\u001b[39mreduce_mean(predictions, axis\u001b[39m=\u001b[39m\u001b[39m0\u001b[39m)\n",
      "File \u001b[1;32mc:\\Users\\isacb\\AppData\\Local\\Programs\\Python\\Python39\\lib\\site-packages\\tensorflow\\python\\util\\traceback_utils.py:153\u001b[0m, in \u001b[0;36mfilter_traceback.<locals>.error_handler\u001b[1;34m(*args, **kwargs)\u001b[0m\n\u001b[0;32m    151\u001b[0m \u001b[39mexcept\u001b[39;00m \u001b[39mException\u001b[39;00m \u001b[39mas\u001b[39;00m e:\n\u001b[0;32m    152\u001b[0m   filtered_tb \u001b[39m=\u001b[39m _process_traceback_frames(e\u001b[39m.\u001b[39m__traceback__)\n\u001b[1;32m--> 153\u001b[0m   \u001b[39mraise\u001b[39;00m e\u001b[39m.\u001b[39mwith_traceback(filtered_tb) \u001b[39mfrom\u001b[39;00m \u001b[39mNone\u001b[39m\n\u001b[0;32m    154\u001b[0m \u001b[39mfinally\u001b[39;00m:\n\u001b[0;32m    155\u001b[0m   \u001b[39mdel\u001b[39;00m filtered_tb\n",
      "File \u001b[1;32mc:\\Users\\isacb\\AppData\\Local\\Programs\\Python\\Python39\\lib\\site-packages\\tensorflow\\python\\framework\\ops.py:7215\u001b[0m, in \u001b[0;36mraise_from_not_ok_status\u001b[1;34m(e, name)\u001b[0m\n\u001b[0;32m   7213\u001b[0m \u001b[39mdef\u001b[39;00m \u001b[39mraise_from_not_ok_status\u001b[39m(e, name):\n\u001b[0;32m   7214\u001b[0m   e\u001b[39m.\u001b[39mmessage \u001b[39m+\u001b[39m\u001b[39m=\u001b[39m (\u001b[39m\"\u001b[39m\u001b[39m name: \u001b[39m\u001b[39m\"\u001b[39m \u001b[39m+\u001b[39m name \u001b[39mif\u001b[39;00m name \u001b[39mis\u001b[39;00m \u001b[39mnot\u001b[39;00m \u001b[39mNone\u001b[39;00m \u001b[39melse\u001b[39;00m \u001b[39m\"\u001b[39m\u001b[39m\"\u001b[39m)\n\u001b[1;32m-> 7215\u001b[0m   \u001b[39mraise\u001b[39;00m core\u001b[39m.\u001b[39m_status_to_exception(e) \u001b[39mfrom\u001b[39;00m \u001b[39mNone\u001b[39m\n",
      "\u001b[1;31mInvalidArgumentError\u001b[0m: {{function_node __wrapped__Mul_device_/job:localhost/replica:0/task:0/device:CPU:0}} Incompatible shapes: [1000] vs. [50] [Op:Mul]"
     ]
    }
   ],
   "source": [
    "# Alt 2.\n",
    "n_samples = 1000\n",
    "samples = surrogate.sample(n_samples)\n",
    "\n",
    "prediction_model = tfd.Normal(loc=samples[0]*x_test + samples[1], scale=samples[2])\n",
    "\n",
    "preds = prediction_model.sample()\n",
    "\n",
    "mean_preds = tf.reduce_mean(predictions, axis=0)\n",
    "stddev_prediction = tf.math.reduce_std(predictions, axis=0)"
   ]
  },
  {
   "cell_type": "code",
   "execution_count": 136,
   "metadata": {},
   "outputs": [
    {
     "name": "stdout",
     "output_type": "stream",
     "text": [
      "True params\n",
      "intercept 1.9\n",
      "slope 1.2\n",
      "noise_eps 0.5\n"
     ]
    }
   ],
   "source": []
  },
  {
   "cell_type": "code",
   "execution_count": null,
   "metadata": {},
   "outputs": [],
   "source": []
  }
 ],
 "metadata": {
  "kernelspec": {
   "display_name": "Python 3",
   "language": "python",
   "name": "python3"
  },
  "language_info": {
   "codemirror_mode": {
    "name": "ipython",
    "version": 3
   },
   "file_extension": ".py",
   "mimetype": "text/x-python",
   "name": "python",
   "nbconvert_exporter": "python",
   "pygments_lexer": "ipython3",
   "version": "3.9.13"
  },
  "orig_nbformat": 4
 },
 "nbformat": 4,
 "nbformat_minor": 2
}
